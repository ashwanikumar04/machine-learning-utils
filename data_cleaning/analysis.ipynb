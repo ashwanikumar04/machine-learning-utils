{
 "cells": [
  {
   "cell_type": "code",
   "execution_count": null,
   "metadata": {},
   "outputs": [],
   "source": []
  },
  {
   "cell_type": "markdown",
   "metadata": {},
   "source": [
    "# Univariate analysis\n",
    "\n",
    "\n",
    "- Where are the data points located, and how far do they spread? What are typical, as well as minimal and maximal, values?\n",
    "\n",
    "- How are the points distributed? Are they spread out evenly or do they cluster in certain areas?\n",
    "\n",
    "- How many points are there? Is this a large data set or a relatively small one?\n",
    "\n",
    "- Is the distribution symmetric or asymmetric? In other words, is the tail of the distribution much larger on one side than on the other?\n",
    "\n",
    "- Are the tails of the distribution relatively heavy (i.e., do many data points lie far away from the central group of points), or are most of the points—with the possible exception of individual outliers—confined to a restricted region?\n",
    "\n",
    "- If there are clusters, how many are there? Is there only one, or are there several? Approximately where are the clusters located, and how large are they—both in terms of spread and in terms of the number of data points belonging to each cluster?\n",
    "\n",
    "- Are the clusters possibly superimposed on some form of unstructured background, or does the entire data set consist only of the clustered data points?\n",
    "\n",
    "- Does the data set contain any significant outliers—that is, data points that seem to be different from all the others?\n",
    "\n",
    "- And lastly, are there any other unusual or significant features in the data set—gaps, sharp cutoffs, unusual values, anything at all that we can observe?"
   ]
  },
  {
   "cell_type": "code",
   "execution_count": null,
   "metadata": {},
   "outputs": [],
   "source": []
  }
 ],
 "metadata": {
  "kernelspec": {
   "display_name": "Python 3",
   "language": "python",
   "name": "python3"
  },
  "language_info": {
   "codemirror_mode": {
    "name": "ipython",
    "version": 3
   },
   "file_extension": ".py",
   "mimetype": "text/x-python",
   "name": "python",
   "nbconvert_exporter": "python",
   "pygments_lexer": "ipython3",
   "version": "3.7.4"
  }
 },
 "nbformat": 4,
 "nbformat_minor": 2
}
